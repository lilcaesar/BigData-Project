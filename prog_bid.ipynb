{
 "cells": [
  {
   "cell_type": "code",
   "execution_count": null,
   "metadata": {},
   "outputs": [],
   "source": [
    "# usare object_detection vecchio (in locale)\n",
    "!git clone https://github.com/tensorflow/models.git\n",
    "!apt-get -qq install libprotobuf-java protobuf-compiler\n",
    "!protoc ./models/research/object_detection/protos/string_int_label_map.proto --python_out=.\n",
    "!cp -R models/research/object_detection/ object_detection/\n",
    "!rm -rf models"
   ]
  },
  {
   "cell_type": "code",
   "execution_count": null,
   "metadata": {},
   "outputs": [],
   "source": [
    "!pip3 install numpy\n",
    "!pip3 install tensorflow-gpu\n",
    "!pip3 install opencv-contrib-python\n",
    "!pip3 install matplotlib\n",
    "!pip3 install Pillow\n",
    "!pip3 install scipy\n",
    "!pip3 install opencv-python\n",
    "!apt update && apt install -y libsm6 libxext6\n",
    "!apt-get install -y libxrender-dev"
   ]
  },
  {
   "cell_type": "code",
   "execution_count": 1,
   "metadata": {},
   "outputs": [],
   "source": [
    "import numpy as np\n",
    "import os\n",
    "import six.moves.urllib as urllib\n",
    "import sys\n",
    "import tarfile\n",
    "import tensorflow as tf\n",
    "import zipfile\n",
    "import cv2\n",
    "\n",
    "from collections import defaultdict\n",
    "from io import StringIO\n",
    "from matplotlib import pyplot as plt\n",
    "from PIL import Image\n",
    "from scipy.stats import itemfreq\n",
    "\n",
    "from object_detection.utils import label_map_util\n",
    "from object_detection.utils import visualization_utils as vis_util"
   ]
  },
  {
   "cell_type": "code",
   "execution_count": null,
   "metadata": {},
   "outputs": [],
   "source": [
    "!mkdir training\n",
    "!mkdir annotations\n",
    "!mkdir pre-trained-model\n",
    "!mkdir images\n",
    "\n",
    "!mkdir images/test\n",
    "!mkdir images/train"
   ]
  },
  {
   "cell_type": "code",
   "execution_count": null,
   "metadata": {},
   "outputs": [],
   "source": [
    "MODEL_NAME = 'ssd_mobilenet_v2_coco_2018_03_29'\n",
    "MODEL_FILE = MODEL_NAME + '.tar.gz'\n",
    "DOWNLOAD_BASE = 'http://download.tensorflow.org/models/object_detection/'\n",
    "PATH_TO_CKPT = MODEL_NAME + '/frozen_inference_graph.pb'\n",
    "PATH_TO_LABELS = os.path.join('annotations', 'label_map.pbtxt')\n",
    "NUM_CLASSES = 1\n",
    "\n",
    "# opener = urllib.request.URLopener()\n",
    "# opener.retrieve(DOWNLOAD_BASE + MODEL_FILE, MODEL_FILE)\n",
    "# tar_file = tarfile.open(MODEL_FILE)\n",
    "# for file in tar_file.getmembers():\n",
    "#   file_name = os.path.basename(file.name)\n",
    "#   if 'frozen_inference_graph.pb' in file_name:\n",
    "#     tar_file.extract(file, os.getcwd())\n",
    "    \n",
    "detection_graph = tf.Graph()\n",
    "with detection_graph.as_default():\n",
    "  od_graph_def = tf.GraphDef()\n",
    "  with tf.gfile.GFile(PATH_TO_CKPT, 'rb') as fid:\n",
    "    serialized_graph = fid.read()\n",
    "    od_graph_def.ParseFromString(serialized_graph)\n",
    "    tf.import_graph_def(od_graph_def, name='')\n",
    "    \n",
    "label_map = label_map_util.load_labelmap(PATH_TO_LABELS)\n",
    "categories = label_map_util.convert_label_map_to_categories(label_map, max_num_classes=NUM_CLASSES, use_display_name=True)\n",
    "category_index = label_map_util.create_category_index(categories)"
   ]
  },
  {
   "cell_type": "code",
   "execution_count": null,
   "metadata": {},
   "outputs": [],
   "source": [
    "!git clone https://github.com/tensorflow/models.git\n",
    "!apt-get -qq install libprotobuf-java protobuf-compiler\n",
    "!protoc ./models/research/object_detection/protos/string_int_label_map.proto --python_out=.\n",
    "!cp -R models/research/slim/nets nets/\n",
    "!rm -rf models\n",
    "\n",
    "!git clone https://github.com/tensorflow/models.git\n",
    "!apt-get -qq install libprotobuf-java protobuf-compiler\n",
    "!protoc ./models/research/object_detection/protos/string_int_label_map.proto --python_out=.\n",
    "!cp -R models/research/slim/deployment deployment/\n",
    "!rm -rf models"
   ]
  },
  {
   "cell_type": "code",
   "execution_count": null,
   "metadata": {},
   "outputs": [],
   "source": [
    "#!pip3 install unrar\n",
    "#!unrar x object_detection.rar\n",
    "!protoc object_detection/protos/*.proto --python_out=."
   ]
  },
  {
   "cell_type": "code",
   "execution_count": null,
   "metadata": {},
   "outputs": [],
   "source": [
    "\n",
    "\n",
    "from tensorflow.python.client import device_lib\n",
    "\n",
    "def get_available_gpus():\n",
    "    local_device_protos = device_lib.list_local_devices()\n",
    "    return [x.name for x in local_device_protos if x.device_type == 'GPU']\n",
    "\n",
    "!nvidia-smi\n",
    "get_available_gpus()\n",
    "#device_lib.list_local_devices()\n",
    "# !pip install --no-index -f https://dist.plone.org/thirdparty/ -U PIL\n",
    "# !pip install Pillow\n",
    "#!apt install -y nvidia-387\n",
    "#!python3 --version"
   ]
  },
  {
   "cell_type": "code",
   "execution_count": null,
   "metadata": {},
   "outputs": [],
   "source": [
    "#!nvidia -smi\n",
    "# !lspci | grep -i nvidia\n",
    "#!apt-cache search nvidia | grep -E \"nvidia\\-[0-9]{3}\"\n",
    "#!dpkg -l | grep -E \"nvidia-[0-9]{3}\"\n",
    "# !apt-cache policy nvidia-410\n",
    "\n",
    "#! add-apt-repository -y ppa:graphics-drivers/ppa                          \n",
    "#!apt install -y nvidia-410  \n",
    "#!dpkg --configure -a\n",
    "#!apt-get -f install\n",
    "\n",
    "# Assume that you have 12GB of GPU memory and want to allocate ~4GB:\n",
    "gpu_options = tf.GPUOptions(per_process_gpu_memory_fraction=0.333)\n",
    "\n",
    "sess = tf.Session(config=tf.ConfigProto(gpu_options=gpu_options))"
   ]
  },
  {
   "cell_type": "code",
   "execution_count": null,
   "metadata": {},
   "outputs": [],
   "source": [
    "with tf.device('/gpu:1'):\n",
    "    !CUDA_VISIBLE_DEVICES=1 python train.py --logtostderr --train_dir=training/ --pipeline_config_path=training/ssd_mobilenet_v2_coco.config"
   ]
  },
  {
   "cell_type": "code",
   "execution_count": null,
   "metadata": {},
   "outputs": [],
   "source": [
    "!python export_inference_graph.py --input_type image_tensor --pipeline_config_path training/ssd_mobilenet_v2_coco.config --trained_checkpoint_prefix training/model.ckpt-81646 --output_directory trained-inference-graphs/output_inference_graph_81k"
   ]
  },
  {
   "cell_type": "code",
   "execution_count": null,
   "metadata": {},
   "outputs": [],
   "source": [
    "# da installare:\n",
    "# !pip3 install cython\n",
    "# !pip3 install \"git+https://github.com/philferriere/cocoapi.git#egg=pycocotools^&subdirectory=PythonAPI\"\n",
    "\n",
    "# !python eval.py --logtostderr \\\n",
    "# --train_dir=training \\\n",
    "# --pipeline_config_path=training/ssd_mobilenet_v2.config \\\n",
    "# --checkpoint_dir=training --eval_dir=evaluation \\\n",
    "!ls images/train | wc -l"
   ]
  }
 ],
 "metadata": {
  "kernelspec": {
   "display_name": "Python 3",
   "language": "python",
   "name": "python3"
  },
  "language_info": {
   "codemirror_mode": {
    "name": "ipython",
    "version": 3
   },
   "file_extension": ".py",
   "mimetype": "text/x-python",
   "name": "python",
   "nbconvert_exporter": "python",
   "pygments_lexer": "ipython3",
   "version": "3.5.2"
  }
 },
 "nbformat": 4,
 "nbformat_minor": 2
}
